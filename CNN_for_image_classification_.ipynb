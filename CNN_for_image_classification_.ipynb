{
  "nbformat": 4,
  "nbformat_minor": 0,
  "metadata": {
    "colab": {
      "provenance": [],
      "authorship_tag": "ABX9TyNErjk6fD7jsCS1VOBdh0fE",
      "include_colab_link": true
    },
    "kernelspec": {
      "name": "python3",
      "display_name": "Python 3"
    },
    "language_info": {
      "name": "python"
    }
  },
  "cells": [
    {
      "cell_type": "markdown",
      "metadata": {
        "id": "view-in-github",
        "colab_type": "text"
      },
      "source": [
        "<a href=\"https://colab.research.google.com/github/punsnprotons/deep-learning-projects/blob/main/CNN_for_image_classification_.ipynb\" target=\"_parent\"><img src=\"https://colab.research.google.com/assets/colab-badge.svg\" alt=\"Open In Colab\"/></a>"
      ]
    },
    {
      "cell_type": "code",
      "execution_count": 17,
      "metadata": {
        "id": "ZplP5QD9U14-"
      },
      "outputs": [],
      "source": [
        "import pandas as pd\n",
        "import numpy as no\n",
        "import matplotlib.pyplot as plt\n",
        "import matplotlib.image as mpimg\n",
        "import seaborn as sns\n",
        "\n",
        "from sklearn.model_selection import train_test_split\n",
        "from sklearn.metrics import confusion_matrix\n",
        "import itertools\n",
        "\n",
        "# training libs\n",
        "from keras.utils import to_categorical\n",
        "from keras.models import Sequential\n",
        "from keras.layers import Dense, Dropout,Flatten,Conv2D,MaxPool2D\n",
        "from keras.optimizers import RMSprop\n",
        "from keras.preprocessing.image import ImageDataGenerator\n",
        "from keras.callbacks import ReduceLROnPlateau\n",
        "sns.set(style='white',context='notebook',palette='deep')\n",
        "\n"
      ]
    },
    {
      "cell_type": "code",
      "source": [
        "train = pd.read_csv('train 2.csv')\n",
        "test = pd.read_csv('test 2.csv')"
      ],
      "metadata": {
        "id": "au2v4IleV2xe"
      },
      "execution_count": 18,
      "outputs": []
    },
    {
      "cell_type": "code",
      "source": [
        "Y_train = train['label']\n",
        "X_train = train.drop(labels=['label'],axis=1)\n",
        "Y_train.value_counts()\n"
      ],
      "metadata": {
        "colab": {
          "base_uri": "https://localhost:8080/"
        },
        "id": "TUefINVIXLDn",
        "outputId": "3329fef1-745f-4c53-d7b0-2f44b7ab68ae"
      },
      "execution_count": 22,
      "outputs": [
        {
          "output_type": "execute_result",
          "data": {
            "text/plain": [
              "1    4291\n",
              "7    4049\n",
              "3    3984\n",
              "2    3844\n",
              "9    3823\n",
              "6    3778\n",
              "0    3751\n",
              "8    3729\n",
              "4    3687\n",
              "5    3498\n",
              "Name: label, dtype: int64"
            ]
          },
          "metadata": {},
          "execution_count": 22
        }
      ]
    },
    {
      "cell_type": "markdown",
      "source": [
        "## Check for null and missing values"
      ],
      "metadata": {
        "id": "_1R8C2uvZOAE"
      }
    },
    {
      "cell_type": "code",
      "source": [
        "X_train.isnull().any().describe()"
      ],
      "metadata": {
        "colab": {
          "base_uri": "https://localhost:8080/"
        },
        "id": "Hmcx3BM4ZRXO",
        "outputId": "c488ec78-905d-4da5-dee9-4351e8adcd9e"
      },
      "execution_count": 23,
      "outputs": [
        {
          "output_type": "execute_result",
          "data": {
            "text/plain": [
              "count      784\n",
              "unique       2\n",
              "top       True\n",
              "freq       485\n",
              "dtype: object"
            ]
          },
          "metadata": {},
          "execution_count": 23
        }
      ]
    },
    {
      "cell_type": "code",
      "source": [
        "test.isnull().any().describe()"
      ],
      "metadata": {
        "colab": {
          "base_uri": "https://localhost:8080/"
        },
        "id": "5Rvhbb3dZWLi",
        "outputId": "0fb16690-441e-4a3d-d6a0-980810d864a6"
      },
      "execution_count": 30,
      "outputs": [
        {
          "output_type": "execute_result",
          "data": {
            "text/plain": [
              "count       784\n",
              "unique        1\n",
              "top       False\n",
              "freq        784\n",
              "dtype: object"
            ]
          },
          "metadata": {},
          "execution_count": 30
        }
      ]
    },
    {
      "cell_type": "markdown",
      "source": [
        "The train and test datasets does not have null or missing values"
      ],
      "metadata": {
        "id": "YIT7OBAzayII"
      }
    },
    {
      "cell_type": "markdown",
      "source": [
        "## Gray scale normalization\n"
      ],
      "metadata": {
        "id": "RGjpU8fDauZE"
      }
    },
    {
      "cell_type": "code",
      "source": [
        "X_train = X_train/255.0\n",
        "test = test/255.0"
      ],
      "metadata": {
        "id": "b4FvkhM8ZdQQ"
      },
      "execution_count": 31,
      "outputs": []
    },
    {
      "cell_type": "markdown",
      "source": [
        "## Reshaping"
      ],
      "metadata": {
        "id": "Dt_Lhj-3bPUq"
      }
    },
    {
      "cell_type": "code",
      "source": [
        "X_train = X_train.values.reshape(-1,28,28,1)\n",
        "test = test.values.reshape(-1,28,28,1)"
      ],
      "metadata": {
        "id": "rDymV-yibNZ8"
      },
      "execution_count": 32,
      "outputs": []
    },
    {
      "cell_type": "markdown",
      "source": [
        "We use 1 channel at the end since grayscale images only need 1 channel for Keras. We have also converted a 784 pixel 1D row to a 28x28 matrix"
      ],
      "metadata": {
        "id": "-S3GCN-xcch3"
      }
    },
    {
      "cell_type": "markdown",
      "source": [
        "## Label Encoding"
      ],
      "metadata": {
        "id": "r_Hh3UWIcqQ9"
      }
    },
    {
      "cell_type": "code",
      "source": [
        "Y_train.value_counts()"
      ],
      "metadata": {
        "colab": {
          "base_uri": "https://localhost:8080/"
        },
        "id": "umlTY2pDcbd1",
        "outputId": "7e8c64e9-0e52-4616-b7db-dbf9d7855461"
      },
      "execution_count": 36,
      "outputs": [
        {
          "output_type": "execute_result",
          "data": {
            "text/plain": [
              "1    4291\n",
              "7    4049\n",
              "3    3984\n",
              "2    3844\n",
              "9    3823\n",
              "6    3778\n",
              "0    3751\n",
              "8    3729\n",
              "4    3687\n",
              "5    3498\n",
              "Name: label, dtype: int64"
            ]
          },
          "metadata": {},
          "execution_count": 36
        }
      ]
    },
    {
      "cell_type": "code",
      "source": [
        "Y_train = to_categorical(Y_train, num_classes = 10)\n"
      ],
      "metadata": {
        "id": "sXt5dQczdOZf"
      },
      "execution_count": 38,
      "outputs": []
    },
    {
      "cell_type": "markdown",
      "source": [
        "We have one hot encoded the 10 digits from 0 to 9 for **classification**"
      ],
      "metadata": {
        "id": "r0KRqZK9eF9l"
      }
    },
    {
      "cell_type": "markdown",
      "source": [
        "## Splitting the training and validation set"
      ],
      "metadata": {
        "id": "GwAw4IfbeJ22"
      }
    },
    {
      "cell_type": "code",
      "source": [
        "X_train,X_test,y_train,y_test = train_test_split(X_train,Y_train,test_size=0.1,random_state=42)"
      ],
      "metadata": {
        "id": "Khk3WgI8eP9v"
      },
      "execution_count": 40,
      "outputs": []
    },
    {
      "cell_type": "markdown",
      "source": [
        "There is no imbalanced representation for the 42,000 training images so a 90/10 split works. Didnt have to set stratify to True for the same reason"
      ],
      "metadata": {
        "id": "UR1oFYTZfaVX"
      }
    },
    {
      "cell_type": "markdown",
      "source": [
        "## Visualize the training data"
      ],
      "metadata": {
        "id": "uguu7A8qga6H"
      }
    },
    {
      "cell_type": "code",
      "source": [
        "plt.imshow(X_train[0][:,:,0])"
      ],
      "metadata": {
        "colab": {
          "base_uri": "https://localhost:8080/",
          "height": 452
        },
        "id": "Z9oVFtkSflvp",
        "outputId": "cee0ef90-4021-4379-a61d-b175f9711d71"
      },
      "execution_count": 43,
      "outputs": [
        {
          "output_type": "execute_result",
          "data": {
            "text/plain": [
              "<matplotlib.image.AxesImage at 0x7b9bb05754e0>"
            ]
          },
          "metadata": {},
          "execution_count": 43
        },
        {
          "output_type": "display_data",
          "data": {
            "text/plain": [
              "<Figure size 640x480 with 1 Axes>"
            ],
            "image/png": "[encoded data removed]"
          },
          "metadata": {}
        }
      ]
    },
    {
      "cell_type": "markdown",
      "source": [
        "## Implementing CNN"
      ],
      "metadata": {
        "id": "EY-6qBrZgjHa"
      }
    },
    {
      "cell_type": "markdown",
      "source": [
        "*   We take Keras Sequential API to add one layer at a time\n",
        "\n",
        "*   1st  layer : Conv2D Layer with 32 filters for the two first conv2D layers and 64 filters for the two last one\n",
        "*   2nd  layer : MaxPool2D as downsampling neighboring pixels and picking maximum values.\n",
        "\n",
        "*  Dropout regularization is used.\n",
        "*  ReLU activation functions are used.\n",
        "*  Flatten layer is used to conver final feature maps to 1D vectors\n",
        "* Dense output layer with 10 neurons and softmax activation function is used to output probability distribution of each class\n"
      ],
      "metadata": {
        "id": "8HytbZidm76s"
      }
    },
    {
      "cell_type": "code",
      "source": [
        "model = Sequential()\n",
        "model.add(Conv2D(\n",
        "    filters=32,\n",
        "    kernel_size=(5,5),\n",
        "    padding='Same',\n",
        "    activation='relu',\n",
        "    input_shape=(28,28,1)))\n",
        "\n",
        "model.add(Conv2D(\n",
        "    filters=32,\n",
        "    kernel_size=(5,5),\n",
        "    padding='Same',\n",
        "    activation='relu',\n",
        "    input_shape=(28,28,1)))\n",
        "\n",
        "model.add(MaxPool2D(pool_size=(2,2)))\n",
        "model.add(Dropout(0.25))\n",
        "\n",
        "model.add(Conv2D(\n",
        "    filters = 64,\n",
        "    kernel_size = (3,3),\n",
        "    padding = 'Same',\n",
        "    activation = 'relu'))\n",
        "\n",
        "model.add(Conv2D(\n",
        "    filters = 64,\n",
        "    kernel_size = (3,3),\n",
        "    padding = 'Same',\n",
        "    activation = 'relu'))\n",
        "\n",
        "model.add(MaxPool2D(pool_size=(2,2),strides=(2,2)))\n",
        "model.add(Dropout(0.25))\n",
        "model.add(Flatten())\n",
        "model.add(Dense(256,activation='relu'))\n",
        "model.add(Dropout(0.5))\n",
        "model.add(Dense(10,activation='softmax'))\n",
        "\n"
      ],
      "metadata": {
        "id": "jz8c8pGWkM8i"
      },
      "execution_count": 48,
      "outputs": []
    },
    {
      "cell_type": "markdown",
      "source": [
        "## Setting the optmizier and annealer"
      ],
      "metadata": {
        "id": "lE7oBo-auU-x"
      }
    },
    {
      "cell_type": "markdown",
      "source": [
        "* We use categorical_crossentropy as the loss function for our caterogical data\n",
        "* We use RMSprop as our optimizer which reduces the aggresive learning rate of Adagrad method. We could've used the SGD optimizer but its slower compared to RMSprop\n",
        "* We use accuracy to evaluate the performance of our model\n",
        "\n"
      ],
      "metadata": {
        "id": "54jr6q7Eu995"
      }
    },
    {
      "cell_type": "code",
      "source": [
        "# defining the optimizer\n",
        "optimizer = RMSprop(learning_rate=0.001,\n",
        "                    rho=0.9,\n",
        "                    epsilon=1e-08)\n",
        "# compile the optimizer , score and loss function into our model\n",
        "model.compile(optimizer = optimizer,\n",
        "              loss = 'categorical_crossentropy',\n",
        "              metrics=['accuracy'])"
      ],
      "metadata": {
        "id": "3RlZ0X91sKae"
      },
      "execution_count": 62,
      "outputs": []
    },
    {
      "cell_type": "code",
      "source": [
        "# setting the learning annealer\n",
        "learning_rate_reduction = ReduceLROnPlateau(\n",
        "    monitor = 'val_acc',\n",
        "    patience = 3,\n",
        "    verbose = 1,\n",
        "    factor = 0.5,\n",
        "    min_lr = 0.00001\n",
        ")\n",
        "epochs = 1\n",
        "batch_size = 86"
      ],
      "metadata": {
        "id": "E_g4-6VYwYAA"
      },
      "execution_count": 63,
      "outputs": []
    },
    {
      "cell_type": "markdown",
      "source": [
        "## Data augmentation"
      ],
      "metadata": {
        "id": "vWrr9jAZyz6K"
      }
    },
    {
      "cell_type": "markdown",
      "source": [
        "We choose to\n",
        "* Randomly rotate some training images by 10%\n",
        "* Randomly zoom some training images by 10%\n",
        "* Randomly shift images horizontally by 10% width\n",
        "* Randomly shift images vertically by 10% height"
      ],
      "metadata": {
        "id": "rbMpEIurzvNB"
      }
    },
    {
      "cell_type": "code",
      "source": [
        "datagen = ImageDataGenerator(\n",
        "    featurewise_center = False,\n",
        "    samplewise_center=False,\n",
        "    featurewise_std_normalization =False,\n",
        "    samplewise_std_normalization=False,\n",
        "    zca_whitening=False,\n",
        "    rotation_range=10,\n",
        "    zoom_range=0.1,\n",
        "    width_shift_range=0.1,\n",
        "    height_shift_range=0.1,\n",
        "    horizontal_flip=False,\n",
        "    vertical_flip=False\n",
        ")\n",
        "datagen.fit(X_train)"
      ],
      "metadata": {
        "id": "yJC1GglhylSn"
      },
      "execution_count": 64,
      "outputs": []
    },
    {
      "cell_type": "markdown",
      "source": [
        "## Model fitting"
      ],
      "metadata": {
        "id": "Ue1iqrPR0F-4"
      }
    },
    {
      "cell_type": "code",
      "source": [
        "history = model.fit_generator(\n",
        "    datagen.flow(X_train,y_train,batch_size=batch_size),\n",
        "    epochs = epochs,\n",
        "    validation_data = (X_test,y_test),\n",
        "    verbose=2,\n",
        "    steps_per_epoch=X_train.shape[0]//batch_size,\n",
        "    callbacks = [learning_rate_reduction]\n",
        "    )\n"
      ],
      "metadata": {
        "colab": {
          "base_uri": "https://localhost:8080/"
        },
        "id": "sxepFd8tzs6Y",
        "outputId": "d763217c-de5e-40f6-f592-ca2c3c6a899f"
      },
      "execution_count": 65,
      "outputs": [
        {
          "output_type": "stream",
          "name": "stderr",
          "text": [
            "<ipython-input-65-935eb30a056e>:1: UserWarning: `Model.fit_generator` is deprecated and will be removed in a future version. Please use `Model.fit`, which supports generators.\n",
            "  history = model.fit_generator(\n",
            "WARNING:tensorflow:Learning rate reduction is conditioned on metric `val_acc` which is not available. Available metrics are: loss,accuracy,val_loss,val_accuracy,lr\n"
          ]
        },
        {
          "output_type": "stream",
          "name": "stdout",
          "text": [
            "402/402 - 216s - loss: nan - accuracy: 0.0978 - val_loss: nan - val_accuracy: 0.0960 - lr: 0.0010 - 216s/epoch - 537ms/step\n"
          ]
        }
      ]
    },
    {
      "cell_type": "markdown",
      "source": [
        "## Model evaluation"
      ],
      "metadata": {
        "id": "X8Ymbh6i5IcA"
      }
    },
    {
      "cell_type": "code",
      "source": [
        "fig, ax = plt.subplots(2, 1, figsize=(10, 8))\n",
        "\n",
        "ax[0].plot(history.history['loss'], color='b', label='Training loss')\n",
        "ax[0].plot(history.history['val_loss'], color='r', label='Validation Loss')\n",
        "legend_loss = ax[0].legend(loc='best', shadow=True)\n",
        "\n",
        "# Check if 'accuracy' is the correct key\n",
        "accuracy_key = 'accuracy' if 'accuracy' in history.history else 'acc'\n",
        "\n",
        "ax[1].plot(history.history[accuracy_key], color='b', label='Training accuracy')\n",
        "ax[1].plot(history.history['val_' + accuracy_key], color='r', label='Validation accuracy')\n",
        "legend_acc = ax[1].legend(loc='best', shadow=True)\n",
        "\n",
        "plt.show()\n"
      ],
      "metadata": {
        "colab": {
          "base_uri": "https://localhost:8080/",
          "height": 681
        },
        "id": "LGzHzsBm06wG",
        "outputId": "be7ebd0d-dd4b-4991-deb6-bcd66066cdcb"
      },
      "execution_count": 68,
      "outputs": [
        {
          "output_type": "display_data",
          "data": {
            "text/plain": [
              "<Figure size 1000x800 with 2 Axes>"
            ],
            "image/png": "[encoded data removed]"
          },
          "metadata": {}
        }
      ]
    },
    {
      "cell_type": "code",
      "source": [],
      "metadata": {
        "id": "GGufdfCSERvi"
      },
      "execution_count": 74,
      "outputs": []
    },
    {
      "cell_type": "code",
      "source": [],
      "metadata": {
        "id": "YkOSQa6OFvmd"
      },
      "execution_count": null,
      "outputs": []
    }
  ]
}